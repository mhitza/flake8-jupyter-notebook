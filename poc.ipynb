{
 "cells": [
  {
   "cell_type": "markdown",
   "id": "6d6c7943-d1d0-4563-8067-66d3ce0aaa4e",
   "metadata": {
    "execution": {
     "iopub.execute_input": "2025-04-09T17:06:13.877864Z",
     "iopub.status.busy": "2025-04-09T17:06:13.877061Z",
     "iopub.status.idle": "2025-04-09T17:06:13.882054Z",
     "shell.execute_reply": "2025-04-09T17:06:13.881441Z",
     "shell.execute_reply.started": "2025-04-09T17:06:13.877836Z"
    }
   },
   "source": [
    "<img align=\"left\" src = https://project.lsst.org/sites/default/files/Rubin-O-Logo_0.png width=250 style=\"padding: 10px\"> \n",
    "<b>Send a Lightcurve to Zooniverse</b> <br>\n",
    "Author(s): Becky Nevin <br>\n",
    "Contact author: Becky Nevin<br>\n",
    "Last verified to run: 2025-04-09 <br>\n",
    "LSST Science Pipelines version: Weekly 2025_09 <br>\n",
    "Container size: small or medium <br>\n",
    "Targeted learning level: intermediate"
   ]
  },
  {
   "cell_type": "markdown",
   "id": "1a27c593-04ad-4e8a-90ac-6e01b69b3379",
   "metadata": {},
   "source": [
    "**Description:**\n",
    "Query and send a lightcurve from RSP to Zooniverse"
   ]
  },
  {
   "cell_type": "markdown",
   "id": "61e9a24e-0d12-4d42-bb68-eaf613366e96",
   "metadata": {},
   "source": [
    "**Skills:** "
   ]
  },
  {
   "cell_type": "markdown",
   "id": "1c83bf8c-36bb-4bf0-936d-5ba24cd6fbbc",
   "metadata": {},
   "source": [
    "**LSST Data Products:** <br>"
   ]
  },
  {
   "cell_type": "markdown",
   "id": "e3c832cf-95e8-4418-8b29-485a02ca03d5",
   "metadata": {},
   "source": [
    "**Packages:** rubin.cistci, astropy, lsst.daf.butler, lsst.afw.display, lsst.geom "
   ]
  },
  {
   "cell_type": "markdown",
   "id": "d87aac09-e020-4934-bb0f-92472c885c4e",
   "metadata": {},
   "source": [
    "**Credit:** Rubin tutorial notebook 07b, `DP02_07b_Variable_Star_Lightcurves.ipynb`"
   ]
  },
  {
   "cell_type": "markdown",
   "id": "ef737af1-d677-4c1c-8670-644ddcf041e4",
   "metadata": {},
   "source": [
    "**Support:** Support is available and questions are welcome - (cscience@lsst.org)"
   ]
  },
  {
   "cell_type": "markdown",
   "id": "2318de02-7209-4e8f-ba93-739f77d42d8a",
   "metadata": {},
   "source": [
    "## 1. Introduction <a class=\"anchor\" id=\"first-bullet\"></a>\n",
    "This notebook will guide a PI through the process of sending a lightcurve of a variable star from the Rubin Science Platform (RSP) to the Zooniverse.\n",
    "\n",
    "It is recommended to run the `01_Introduction_to_Citsci_Pipeline.ipynb` notebook first, which provides an introduction to sending images to Zooniverse.\n",
    "\n",
    "It is also recommended to explore the DP0.2 `tutorial-notebooks/` folder in your home directory, specifically tutorial `DP02_07b_Variable_Star_Lightcurves.ipynb`."
   ]
  },
  {
   "cell_type": "markdown",
   "id": "4a57c6f5-e2bd-4d48-aa5b-4c031cc00dfa",
   "metadata": {},
   "source": [
    "### 1.1 Package imports <a class=\"anchor\" id=\"second-bullet\"></a>"
   ]
  },
  {
   "cell_type": "markdown",
   "id": "b4cb20b7-0190-4a07-aaa2-a0750de047d6",
   "metadata": {},
   "source": [
    "#### Install Pipeline Package\n",
    "\n",
    "First, install the Rubin Citizen Science Pipeline package by doing the following:\n",
    "\n",
    "1. Open up a New Launcher tab\n",
    "2. In the \"Other\" section of the New Launcher tab, click \"Terminal\"\n",
    "3. Use `pip` to install the `rubin.citsci` package by entering the following command:\n",
    "```\n",
    "pip install rubin.citsci\n",
    "```\n",
    "Note that this package will soon be installed directly on RSP.\n",
    "\n",
    "If this package is already installed, make sure it is updated:\n",
    "```\n",
    "pip install --upgrade rubin.citsci\n",
    "```\n",
    "\n",
    "4. Confirm the next cell containing `from rubin.citsci import pipeline` works as expected and does not throw an error"
   ]
  },
  {
   "cell_type": "code",
   "execution_count": 2,
   "id": "8a5b6bc2-26c3-442f-9344-036c98e39e58",
   "metadata": {
    "execution": {
     "iopub.execute_input": "2025-04-09T17:11:45.143989Z",
     "iopub.status.busy": "2025-04-09T17:11:45.143544Z",
     "iopub.status.idle": "2025-04-09T17:11:49.830953Z",
     "shell.execute_reply": "2025-04-09T17:11:49.829727Z",
     "shell.execute_reply.started": "2025-04-09T17:11:45.143959Z"
    }
   },
   "outputs": [],
   "source": [
    "from rubin.citsci import pipeline\n",
    "import utils\n",
    "import numpy as np\n",
    "import pandas as pd\n",
    "import os\n",
    "import astropy\n",
    "from matplotlib import image as mpimg\n",
    "import matplotlib.pyplot as plt\n",
    "import lsst.afw.display as afwdisplay\n",
    "afwdisplay.setDefaultBackend(\"matplotlib\")"
   ]
  },
  {
   "cell_type": "markdown",
   "id": "72519d1d-3963-44ea-8c7f-3c387a8aa6ff",
   "metadata": {},
   "source": [
    "### 1.2 Define functions and parameters <a class=\"anchor\" id=\"third-bullet\"></a>\n",
    "If you haven't already, [make a Zooniverse account](https://www.zooniverse.org/accounts/registerhttps://www.zooniverse.org/accounts/register) and create your project.\n",
    "\n",
    "IMPORTANT: Your Zooniverse project must be set to \"public\", a \"private\" project will not work. Select this setting under the \"Visibility\" tab, (it does not need to be set to live). \n",
    "\n",
    "Supply the email associated with your Zooniverse account, and then follow the instructions in the prompt to log in and select your project by slug name.\n",
    "\n",
    "A \"slug\" is the string of your Zooniverse username and your project name without the leading forward slash, for instance: \"username/project-name\". [Click here for more details](https://www.zooniverse.org/talk/18/967061?comment=1898157&page=1).\n",
    "\n",
    "**The `rubin.citsci` package includes a method that creates a Zooniverse project from template. If you wish to use this feature, do not provide a slug_name and run the subsequent cell.**"
   ]
  },
  {
   "cell_type": "code",
   "execution_count": 4,
   "id": "6e3c9201-c15c-466a-9371-6103d3718d93",
   "metadata": {
    "execution": {
     "iopub.execute_input": "2025-04-09T17:12:18.759157Z",
     "iopub.status.busy": "2025-04-09T17:12:18.758934Z",
     "iopub.status.idle": "2025-04-09T17:12:34.356030Z",
     "shell.execute_reply": "2025-04-09T17:12:34.355295Z",
     "shell.execute_reply.started": "2025-04-09T17:12:18.759139Z"
    }
   },
   "outputs": [
    {
     "name": "stdout",
     "output_type": "stream",
     "text": [
      "Loading and running utilities to establish a link with Zooniverse\n",
      "Enter your Zooniverse username followed by password below\n",
      "Enter your Zooniverse credentials...\n"
     ]
    },
    {
     "name": "stdin",
     "output_type": "stream",
     "text": [
      "Username:  rebecca.nevin\n",
      " ········\n"
     ]
    },
    {
     "name": "stdout",
     "output_type": "stream",
     "text": [
      "You now are logged in to the Zooniverse platform.\n",
      "\n",
      "*==* Your Project Slugs *==*\n",
      "\n",
      "rebecca-dot-nevin/galaxy-rotation-fields\n",
      "rebecca-dot-nevin/test-project\n",
      "rebecca-dot-nevin/pcw-2023-awesome-citsci-project\n",
      "rebecca-dot-nevin/template-test-copy-2024-07-09-21-49-53\n",
      "\n",
      "*==========================*\n",
      "\n"
     ]
    },
    {
     "name": "stdin",
     "output_type": "stream",
     "text": [
      "Which project would you like to connect to? (copy & paste the slug name here)? rebecca-dot-nevin/test-project\n"
     ]
    },
    {
     "name": "stdout",
     "output_type": "stream",
     "text": [
      "Current project set to: rebecca-dot-nevin/test-project\n"
     ]
    }
   ],
   "source": [
    "email = \"beckynevin@gmail.com\"\n",
    "cit_sci_pipeline = pipeline.CitSciPipeline()\n",
    "cit_sci_pipeline.login_to_zooniverse(email)"
   ]
  },
  {
   "cell_type": "markdown",
   "id": "9a0736a8-cdd0-414e-a91f-e9e21a49db4a",
   "metadata": {},
   "source": [
    "**Run the following cell if you would like to create a new Zooniverse project from the Vera Rubin template**"
   ]
  },
  {
   "cell_type": "code",
   "execution_count": null,
   "id": "53c937af-d1c3-4e57-8da9-a339ceedc41e",
   "metadata": {},
   "outputs": [],
   "source": [
    "cit_sci_pipeline.create_new_project_from_template()"
   ]
  },
  {
   "cell_type": "markdown",
   "id": "60fe608f-8407-4836-8e90-815dfafedb57",
   "metadata": {},
   "source": [
    "## 2. Make a subject set of a phased lightcurve from a variable star<a class=\"anchor\" id=\"fourth-bullet\"></a>\n",
    "A subject set is a collection of data (images, plots, etc) that are shown to citizen scientists. It is also the unit of data that is sent to Zooniverse.\n",
    "\n",
    "This notebook curates a subject set of flipbook images from a variable star to send to Zooniverse. This can be modified to create your own subject set. Your subject set must have 100 objects or less in the testing phase before your project is approved by the EPO Data Rights panel. \n",
    "\n",
    "This example makes one lightcurve from a confirmed variable star.\n",
    "\n",
    "We have simplified this example to only include one imaging band ($r-$band)."
   ]
  },
  {
   "cell_type": "code",
   "execution_count": 29,
   "id": "8ae742b3-b1ec-448f-a7ba-38315eefe640",
   "metadata": {
    "execution": {
     "iopub.execute_input": "2025-04-09T17:49:47.783092Z",
     "iopub.status.busy": "2025-04-09T17:49:47.782199Z",
     "iopub.status.idle": "2025-04-09T17:49:47.803278Z",
     "shell.execute_reply": "2025-04-09T17:49:47.802206Z",
     "shell.execute_reply.started": "2025-04-09T17:49:47.783054Z"
    }
   },
   "outputs": [],
   "source": [
    "import astropy.units as u\n",
    "from astropy.table import unique\n",
    "from astropy.timeseries import LombScargle\n",
    "from lsst.rsp import get_tap_service\n",
    "\n",
    "def notebook_7b_one_band():\n",
    "\n",
    "    plt.style.use('tableau-colorblind10')\n",
    "    params = {'axes.labelsize': 24,\n",
    "              'font.size': 20,\n",
    "              'legend.fontsize': 14,\n",
    "              'xtick.major.width': 3,\n",
    "              'xtick.minor.width': 2,\n",
    "              'xtick.major.size': 12,\n",
    "              'xtick.minor.size': 6,\n",
    "              'xtick.direction': 'in',\n",
    "              'xtick.top': True,\n",
    "              'lines.linewidth': 3,\n",
    "              'axes.linewidth': 3,\n",
    "              'axes.labelweight': 3,\n",
    "              'axes.titleweight': 3,\n",
    "              'ytick.major.width': 3,\n",
    "              'ytick.minor.width': 2,\n",
    "              'ytick.major.size': 12,\n",
    "              'ytick.minor.size': 6,\n",
    "              'ytick.direction': 'in',\n",
    "              'ytick.right': True,\n",
    "              'figure.figsize': [10, 8],\n",
    "              'figure.facecolor': 'White'}\n",
    "    plt.rcParams.update(params)\n",
    "\n",
    "    all_filter_labels = ['u', 'g', 'r', 'i', 'z', 'y']\n",
    "    all_filter_colors = {'u': '#0c71ff', 'g': '#49be61', 'r': '#c61c00',\n",
    "                          'i': '#ffc200', 'z': '#f341a2', 'y': '#5d0000'}\n",
    "    all_filter_symbols = {'u': 'o', 'g': '^', 'r': 'v', 'i': 's', 'z': '*', 'y': 'p'}\n",
    "\n",
    "    # Ask the user\n",
    "    chosen_filter = input(f\"Choose a filter from {all_filter_labels}: \").strip()\n",
    "    \n",
    "    # Validate\n",
    "    if chosen_filter not in all_filter_labels:\n",
    "        raise ValueError(f\"Invalid filter: '{chosen_filter}'. Must be one of {all_filter_labels}.\")\n",
    "\n",
    "    # Restrict to just the chosen filter\n",
    "    plot_filter_labels = [chosen_filter]\n",
    "    plot_filter_colors = {chosen_filter: all_filter_colors[chosen_filter]}\n",
    "    plot_filter_symbols = {chosen_filter: all_filter_symbols[chosen_filter]}\n",
    "    \n",
    "    service = get_tap_service(\"tap\")\n",
    "\n",
    "    ra_known_rrl = 62.1479031\n",
    "    dec_known_rrl = -35.799138\n",
    "\n",
    "    query = \"SELECT TOP 100 \"\\\n",
    "        \"coord_ra, coord_dec, objectId, \"\\\n",
    "        \"g_psfFlux, r_psfFlux, i_psfFlux, detect_isPrimary, \"\\\n",
    "        \"scisql_nanojanskyToAbMag(g_psfFlux) as gPSFMag, \"\\\n",
    "        \"scisql_nanojanskyToAbMag(r_psfFlux) as rPSFMag, \"\\\n",
    "        \"scisql_nanojanskyToAbMag(i_psfFlux) as iPSFMag, \"\\\n",
    "        \"g_extendedness, r_extendedness, i_extendedness \"\\\n",
    "        \"FROM dp02_dc2_catalogs.Object \"\\\n",
    "        \"WHERE CONTAINS(POINT('ICRS', coord_ra, coord_dec), \"\\\n",
    "        \"CIRCLE('ICRS',\" + str(ra_known_rrl) + \", \"\\\n",
    "        + str(dec_known_rrl) + \", 0.001)) = 1 \"\\\n",
    "        \"AND detect_isPrimary = 1\"\\\n",
    "    job = service.submit_job(query)\n",
    "    job.run()\n",
    "    job.wait(phases=['COMPLETED', 'ERROR'])\n",
    "    objs = job.fetch_result().to_table()\n",
    "    sel_objid = objs[0]['objectId']\n",
    "    query = \"SELECT src.band, src.ccdVisitId, src.coord_ra, src.coord_dec, \"\\\n",
    "        \"src.objectId, src.psfFlux, src.psfFluxErr, \"\\\n",
    "        \"scisql_nanojanskyToAbMag(psfFlux) as psfMag, \"\\\n",
    "        \"visinfo.ccdVisitId, visinfo.band, \"\\\n",
    "        \"visinfo.expMidptMJD, visinfo.zeroPoint \"\\\n",
    "        \"FROM dp02_dc2_catalogs.ForcedSource as src \"\\\n",
    "        \"JOIN dp02_dc2_catalogs.CcdVisit as visinfo \"\\\n",
    "        \"ON visinfo.ccdVisitId = src.ccdVisitId \"\\\n",
    "        \"WHERE src.objectId = \"+str(sel_objid)+\" \"\n",
    "    job = service.submit_job(query)\n",
    "    job.run()\n",
    "    job.wait(phases=['COMPLETED', 'ERROR'])\n",
    "    srcs = job.fetch_result().to_table()\n",
    "    pick = {}\n",
    "    for filter in plot_filter_labels:\n",
    "        pick[filter] = (srcs['band'] == filter)\n",
    "    fig = plt.figure(figsize=(6, 4))\n",
    "    plt.plot(srcs[pick['r']]['expMidptMJD'], srcs[pick['r']]['psfMag'],\n",
    "             'k.', ms=10)\n",
    "    plt.minorticks_on()\n",
    "    plt.xlabel('MJD (days)')\n",
    "    plt.ylabel('r')\n",
    "    plt.gca().invert_yaxis()\n",
    "    plt.show()\n",
    "    mjd_days = {}\n",
    "    mags = {}\n",
    "    for filter in plot_filter_labels:\n",
    "        mjd_days[filter] = np.array(srcs[pick[filter]]['expMidptMJD']) * u.day\n",
    "        mags[filter] = np.array(srcs[pick[filter]]['psfMag'])\n",
    "    min_period = 0.05 * u.day\n",
    "    max_period = 1.05 * u.day\n",
    "    \n",
    "    min_freq_search = 1.0 / max_period\n",
    "    max_freq_search = 1.0 / min_period\n",
    "\n",
    "    frequency = {}\n",
    "    power = {}\n",
    "    for filter in plot_filter_labels:\n",
    "        frequency[filter], power[filter] =\\\n",
    "            LombScargle(mjd_days[filter], mags[filter]).autopower(minimum_frequency=min_freq_search,\n",
    "                                                                  maximum_frequency=max_freq_search)\n",
    "\n",
    "    all_peak_freqs = []\n",
    "\n",
    "    for filter in plot_filter_labels:\n",
    "        peakbin = np.argmax(power[filter])\n",
    "    \n",
    "        all_peak_freqs.append(frequency[filter][peakbin].value)\n",
    "        \n",
    "    all_peak_freqs = np.array(all_peak_freqs)\n",
    "    \n",
    "    mean_peak_freq = np.mean(all_peak_freqs)\n",
    "    \n",
    "    print('Mean frequency:', mean_peak_freq)\n",
    "    print('Mean period:', 1.0/mean_peak_freq, ' days')\n",
    "    print('\\nugrizy frequency results:\\n', all_peak_freqs)\n",
    "    best_period = 1/mean_peak_freq\n",
    "    mjd_norm = {}\n",
    "    phase = {}\n",
    "    \n",
    "    t0 = np.min(mjd_days['r'].value)\n",
    "    \n",
    "    for filter in plot_filter_labels:\n",
    "        mjd_norm[filter] = (mjd_days[filter].value - t0) / best_period\n",
    "        phase[filter] = np.mod(mjd_norm[filter], 1.0)\n",
    "\n",
    "    fig = plt.figure(figsize=(6, 4))\n",
    "\n",
    "    for filter in plot_filter_labels:\n",
    "        plt.plot(phase[filter], mags[filter]-np.mean(mags[filter]),\n",
    "                 plot_filter_symbols[filter],\n",
    "                 color=plot_filter_colors[filter], label=filter)\n",
    "    plt.hlines(0, 0, 1, linestyle=':', color='Gray')\n",
    "    plt.gca().invert_yaxis()\n",
    "    plt.legend()\n",
    "    plt.xlabel('phase')\n",
    "    plt.ylabel('mag - mean')\n",
    "    plt.minorticks_on()\n",
    "    plt.show()\n",
    "\n",
    "    return phase[filter], mags[filter]-np.mean(mags[filter]), chosen_filter"
   ]
  },
  {
   "cell_type": "code",
   "execution_count": 30,
   "id": "3116c7c3-12d4-45b3-a670-81cbcbf59918",
   "metadata": {
    "execution": {
     "iopub.execute_input": "2025-04-09T17:49:48.720240Z",
     "iopub.status.busy": "2025-04-09T17:49:48.719769Z",
     "iopub.status.idle": "2025-04-09T17:49:53.077956Z",
     "shell.execute_reply": "2025-04-09T17:49:53.077325Z",
     "shell.execute_reply.started": "2025-04-09T17:49:48.720196Z"
    }
   },
   "outputs": [
    {
     "name": "stdin",
     "output_type": "stream",
     "text": [
      "Choose a filter from ['u', 'g', 'r', 'i', 'z', 'y']:  r\n"
     ]
    },
    {
     "data": {
      "image/png": "[encoded data removed]",
      "text/plain": [
       "<Figure size 600x400 with 1 Axes>"
      ]
     },
     "metadata": {},
     "output_type": "display_data"
    },
    {
     "name": "stdout",
     "output_type": "stream",
     "text": [
      "Mean frequency: 1.9626128804293055\n",
      "Mean period: 0.5095248329264292  days\n",
      "\n",
      "ugrizy frequency results:\n",
      " [1.96261288]\n"
     ]
    },
    {
     "data": {
      "image/png": "[encoded data removed]",
      "text/plain": [
       "<Figure size 600x400 with 1 Axes>"
      ]
     },
     "metadata": {},
     "output_type": "display_data"
    }
   ],
   "source": [
    "phase, brightness, band = notebook_7b_one_band()"
   ]
  },
  {
   "cell_type": "code",
   "execution_count": 28,
   "id": "36464f24-2474-4747-b656-a6f962c14909",
   "metadata": {
    "execution": {
     "iopub.execute_input": "2025-04-09T17:49:34.057282Z",
     "iopub.status.busy": "2025-04-09T17:49:34.056680Z",
     "iopub.status.idle": "2025-04-09T17:49:34.061454Z",
     "shell.execute_reply": "2025-04-09T17:49:34.060852Z",
     "shell.execute_reply.started": "2025-04-09T17:49:34.057254Z"
    }
   },
   "outputs": [
    {
     "name": "stdout",
     "output_type": "stream",
     "text": [
      "[0.73104474 0.77385784 0.86610627 0.95479261 0.09487645 0.88716485\n",
      " 0.874154   0.87400372 0.63672456 0.05618072 0.06640358 0.96076189\n",
      " 0.25108779 0.73621241 0.7353312  0.11363094 0.1109834  0.87917934\n",
      " 0.27581936 0.29787896 0.88882154 0.47204328 0.09375439 0.48696411\n",
      " 0.39315506 0.02461061 0.58434194 0.13387949 0.89659373 0.88518127\n",
      " 0.05357376 0.89571841 0.28997205 0.26439166 0.16184493 0.43702855\n",
      " 0.29362221 0.93703641 0.29837085 0.89025417 0.88849765 0.04335443\n",
      " 0.04247323 0.19920522 0.20008642 0.81119945 0.44378703 0.80754511\n",
      " 0.10980391 0.5146167  0.5384288  0.10435391 0.39068308 0.34492477\n",
      " 0.54368657 0.34667933 0.13283228 0.26276283 0.84143757 0.05418069\n",
      " 0.35624048 0.96822533 0.0352509  0.38659353 0.28166311 0.19394744\n",
      " 0.17245947 0.54651099 0.64765839 0.29255741 0.18450926 0.33436604\n",
      " 0.33524136 0.96061836 0.55612383 0.14053021 0.6529687  0.66335276]\n"
     ]
    }
   ],
   "source": [
    "print(phase)"
   ]
  },
  {
   "cell_type": "code",
   "execution_count": 35,
   "id": "5982b7a5-6f9a-476a-a9fa-265ab798a819",
   "metadata": {
    "execution": {
     "iopub.execute_input": "2025-04-09T17:52:45.870620Z",
     "iopub.status.busy": "2025-04-09T17:52:45.870317Z",
     "iopub.status.idle": "2025-04-09T17:52:45.874530Z",
     "shell.execute_reply": "2025-04-09T17:52:45.873856Z",
     "shell.execute_reply.started": "2025-04-09T17:52:45.870600Z"
    }
   },
   "outputs": [],
   "source": [
    "import pandas as pd\n",
    "import json\n",
    "\n",
    "def get_filtered_data(phase, brightness):\n",
    "    brightness_demeaned = brightness - np.mean(brightness)\n",
    "    \n",
    "    # Create DataFrame\n",
    "    df = pd.DataFrame({\n",
    "        'phase': phase,\n",
    "        'relative brightness': brightness_demeaned\n",
    "    })\n",
    "    \n",
    "    # Convert to JSON\n",
    "    json_data = df.to_json(orient='records')  # Or 'split', 'index', etc.\n",
    "\n",
    "    return df, json_data"
   ]
  },
  {
   "cell_type": "code",
   "execution_count": 36,
   "id": "33d155fa-aecd-4964-937f-72cab2d16540",
   "metadata": {
    "execution": {
     "iopub.execute_input": "2025-04-09T17:52:46.727591Z",
     "iopub.status.busy": "2025-04-09T17:52:46.727131Z",
     "iopub.status.idle": "2025-04-09T17:52:46.733950Z",
     "shell.execute_reply": "2025-04-09T17:52:46.733061Z",
     "shell.execute_reply.started": "2025-04-09T17:52:46.727556Z"
    }
   },
   "outputs": [],
   "source": [
    "df, json_data = get_filtered_data(phase, brightness)"
   ]
  },
  {
   "cell_type": "code",
   "execution_count": 37,
   "id": "65a7b75f-ad4c-47f9-9d83-0d6dbf1236ba",
   "metadata": {
    "execution": {
     "iopub.execute_input": "2025-04-09T17:52:49.000153Z",
     "iopub.status.busy": "2025-04-09T17:52:48.999632Z",
     "iopub.status.idle": "2025-04-09T17:52:49.021014Z",
     "shell.execute_reply": "2025-04-09T17:52:49.020124Z",
     "shell.execute_reply.started": "2025-04-09T17:52:49.000118Z"
    }
   },
   "outputs": [
    {
     "data": {
      "text/html": [
       "<div>\n",
       "<style scoped>\n",
       "    .dataframe tbody tr th:only-of-type {\n",
       "        vertical-align: middle;\n",
       "    }\n",
       "\n",
       "    .dataframe tbody tr th {\n",
       "        vertical-align: top;\n",
       "    }\n",
       "\n",
       "    .dataframe thead th {\n",
       "        text-align: right;\n",
       "    }\n",
       "</style>\n",
       "<table border=\"1\" class=\"dataframe\">\n",
       "  <thead>\n",
       "    <tr style=\"text-align: right;\">\n",
       "      <th></th>\n",
       "      <th>phase</th>\n",
       "      <th>relative brightness</th>\n",
       "    </tr>\n",
       "  </thead>\n",
       "  <tbody>\n",
       "    <tr>\n",
       "      <th>0</th>\n",
       "      <td>0.593895</td>\n",
       "      <td>0.349467</td>\n",
       "    </tr>\n",
       "    <tr>\n",
       "      <th>1</th>\n",
       "      <td>0.237756</td>\n",
       "      <td>0.071435</td>\n",
       "    </tr>\n",
       "    <tr>\n",
       "      <th>2</th>\n",
       "      <td>0.699522</td>\n",
       "      <td>0.236358</td>\n",
       "    </tr>\n",
       "    <tr>\n",
       "      <th>3</th>\n",
       "      <td>0.700404</td>\n",
       "      <td>0.226043</td>\n",
       "    </tr>\n",
       "    <tr>\n",
       "      <th>4</th>\n",
       "      <td>0.621295</td>\n",
       "      <td>0.367469</td>\n",
       "    </tr>\n",
       "    <tr>\n",
       "      <th>...</th>\n",
       "      <td>...</td>\n",
       "      <td>...</td>\n",
       "    </tr>\n",
       "    <tr>\n",
       "      <th>110</th>\n",
       "      <td>0.278655</td>\n",
       "      <td>0.097648</td>\n",
       "    </tr>\n",
       "    <tr>\n",
       "      <th>111</th>\n",
       "      <td>0.508259</td>\n",
       "      <td>0.273983</td>\n",
       "    </tr>\n",
       "    <tr>\n",
       "      <th>112</th>\n",
       "      <td>0.000881</td>\n",
       "      <td>-0.199503</td>\n",
       "    </tr>\n",
       "    <tr>\n",
       "      <th>113</th>\n",
       "      <td>0.000000</td>\n",
       "      <td>-0.206691</td>\n",
       "    </tr>\n",
       "    <tr>\n",
       "      <th>114</th>\n",
       "      <td>0.027771</td>\n",
       "      <td>-0.179530</td>\n",
       "    </tr>\n",
       "  </tbody>\n",
       "</table>\n",
       "<p>115 rows × 2 columns</p>\n",
       "</div>"
      ],
      "text/plain": [
       "        phase  relative brightness\n",
       "0    0.593895             0.349467\n",
       "1    0.237756             0.071435\n",
       "2    0.699522             0.236358\n",
       "3    0.700404             0.226043\n",
       "4    0.621295             0.367469\n",
       "..        ...                  ...\n",
       "110  0.278655             0.097648\n",
       "111  0.508259             0.273983\n",
       "112  0.000881            -0.199503\n",
       "113  0.000000            -0.206691\n",
       "114  0.027771            -0.179530\n",
       "\n",
       "[115 rows x 2 columns]"
      ]
     },
     "execution_count": 37,
     "metadata": {},
     "output_type": "execute_result"
    }
   ],
   "source": [
    "df"
   ]
  },
  {
   "cell_type": "code",
   "execution_count": 38,
   "id": "88ef1ea3-24d8-4d66-8c9a-98aafcfe5707",
   "metadata": {
    "execution": {
     "iopub.execute_input": "2025-04-09T17:52:52.944027Z",
     "iopub.status.busy": "2025-04-09T17:52:52.943611Z",
     "iopub.status.idle": "2025-04-09T17:52:52.948276Z",
     "shell.execute_reply": "2025-04-09T17:52:52.947703Z",
     "shell.execute_reply.started": "2025-04-09T17:52:52.944003Z"
    }
   },
   "outputs": [
    {
     "data": {
      "text/plain": [
       "'[{\"phase\":0.5938953418,\"relative brightness\":0.3494671821},{\"phase\":0.2377564308,\"relative brightness\":0.0714345923},{\"phase\":0.6995224502,\"relative brightness\":0.2363581354},{\"phase\":0.7004036634,\"relative brightness\":0.2260426561},{\"phase\":0.6212953802,\"relative brightness\":0.3674689506},{\"phase\":0.2110184535,\"relative brightness\":0.0350145349},{\"phase\":0.490624132,\"relative brightness\":0.2690326396},{\"phase\":0.2723141184,\"relative brightness\":0.1057467658},{\"phase\":0.7630653116,\"relative brightness\":-0.0846996796},{\"phase\":0.0992384256,\"relative brightness\":-0.1203976598},{\"phase\":0.0016380431,\"relative brightness\":-0.2156382735},{\"phase\":0.0043111218,\"relative brightness\":-0.2152366459},{\"phase\":0.0007568299,\"relative brightness\":-0.2155546142},{\"phase\":0.7714966206,\"relative brightness\":-0.0957784827},{\"phase\":0.772381759,\"relative brightness\":-0.0980527254},{\"phase\":0.1345634948,\"relative brightness\":-0.0650505875},{\"phase\":0.1518143391,\"relative brightness\":-0.020771794},{\"phase\":0.6919315017,\"relative brightness\":0.2619658313},{\"phase\":0.2208517129,\"relative brightness\":0.0652808024},{\"phase\":0.2858901723,\"relative brightness\":0.1273883578},{\"phase\":0.4293817938,\"relative brightness\":0.2373155318},{\"phase\":0.5104631485,\"relative brightness\":0.2743415383},{\"phase\":0.2061084985,\"relative brightness\":0.0437076824},{\"phase\":0.0628652396,\"relative brightness\":-0.1679248393},{\"phase\":0.7946371326,\"relative brightness\":-0.2183099499},{\"phase\":0.7422655363,\"relative brightness\":-0.0615625982},{\"phase\":0.48445264,\"relative brightness\":0.2690360321},{\"phase\":0.5084200685,\"relative brightness\":0.2826957174},{\"phase\":0.541454184,\"relative brightness\":0.2977927372},{\"phase\":0.5505708342,\"relative brightness\":0.2961679272},{\"phase\":0.5991236008,\"relative brightness\":0.3662267881},{\"phase\":0.2914602243,\"relative brightness\":0.1142516487},{\"phase\":0.2923394749,\"relative brightness\":0.1144773063},{\"phase\":0.1780686483,\"relative brightness\":-0.0045709828},{\"phase\":0.1441959126,\"relative brightness\":-0.0484408943},{\"phase\":0.1850771389,\"relative brightness\":0.0131137422},{\"phase\":0.1128588727,\"relative brightness\":-0.0880958659},{\"phase\":0.1433205873,\"relative brightness\":-0.0484966672},{\"phase\":0.6297138346,\"relative brightness\":0.361281803},{\"phase\":0.5977055811,\"relative brightness\":0.3392202526},{\"phase\":0.6270152419,\"relative brightness\":0.3716542077},{\"phase\":0.9973122354,\"relative brightness\":-0.2445237212},{\"phase\":0.646578567,\"relative brightness\":0.3544100115},{\"phase\":0.239687214,\"relative brightness\":0.0640667965},{\"phase\":0.0463699158,\"relative brightness\":-0.1684751693},{\"phase\":0.2131291365,\"relative brightness\":0.0384279966},{\"phase\":0.0500046749,\"relative brightness\":-0.1633726255},{\"phase\":0.9183398866,\"relative brightness\":-0.3311694578},{\"phase\":0.1665130122,\"relative brightness\":-0.0431505339},{\"phase\":0.7873421005,\"relative brightness\":-0.1810819403},{\"phase\":0.9555490642,\"relative brightness\":-0.2751474193},{\"phase\":0.0081255007,\"relative brightness\":-0.2022674334},{\"phase\":0.9420515949,\"relative brightness\":-0.3148364171},{\"phase\":0.9920229937,\"relative brightness\":-0.2417657068},{\"phase\":0.3118649115,\"relative brightness\":0.1369871062},{\"phase\":0.1673942254,\"relative brightness\":-0.0405807388},{\"phase\":0.286524392,\"relative brightness\":0.1414470601},{\"phase\":0.9723373965,\"relative brightness\":-0.2591591266},{\"phase\":0.0798152448,\"relative brightness\":-0.1262850352},{\"phase\":0.0023751866,\"relative brightness\":-0.2222519556},{\"phase\":0.2288625284,\"relative brightness\":0.0514863449},{\"phase\":0.0816973906,\"relative brightness\":-0.1344162308},{\"phase\":0.8549380431,\"relative brightness\":-0.3415279593},{\"phase\":0.8585394377,\"relative brightness\":-0.3511787033},{\"phase\":0.5264402959,\"relative brightness\":0.2749884907},{\"phase\":0.4886909385,\"relative brightness\":0.272827712},{\"phase\":0.9119537777,\"relative brightness\":-0.3446867573},{\"phase\":0.0691275759,\"relative brightness\":-0.161159037},{\"phase\":0.0032563998,\"relative brightness\":-0.2165557471},{\"phase\":0.8464039622,\"relative brightness\":-0.3264423936},{\"phase\":0.6399241519,\"relative brightness\":0.3416123256},{\"phase\":0.5673413326,\"relative brightness\":0.3263227429},{\"phase\":0.8785506095,\"relative brightness\":-0.3531389887},{\"phase\":0.7169155637,\"relative brightness\":0.169241203},{\"phase\":0.1829767064,\"relative brightness\":0.0211933863},{\"phase\":0.0267007479,\"relative brightness\":-0.172359714},{\"phase\":0.8483042793,\"relative brightness\":-0.3235726271},{\"phase\":0.9632155585,\"relative brightness\":-0.3009016811},{\"phase\":0.7561607027,\"relative brightness\":-0.0708822012},{\"phase\":0.0016264057,\"relative brightness\":-0.2095087341},{\"phase\":0.1667562339,\"relative brightness\":-0.0189995014},{\"phase\":0.4184629076,\"relative brightness\":0.2306348856},{\"phase\":0.1732328564,\"relative brightness\":-0.0155723191},{\"phase\":0.6013338896,\"relative brightness\":0.3562272893},{\"phase\":0.6137356404,\"relative brightness\":0.3590873699},{\"phase\":0.4590870316,\"relative brightness\":0.2619285535},{\"phase\":0.2079887679,\"relative brightness\":0.0326734935},{\"phase\":0.0158877982,\"relative brightness\":-0.2041029109},{\"phase\":0.0410930406,\"relative brightness\":-0.1724710014},{\"phase\":0.3542010329,\"relative brightness\":0.1848256865},{\"phase\":0.1861560721,\"relative brightness\":-0.0065889357},{\"phase\":0.5697213549,\"relative brightness\":0.307697875},{\"phase\":0.1806018688,\"relative brightness\":0.0057868049},{\"phase\":0.3533198197,\"relative brightness\":0.1872701906},{\"phase\":0.4966733463,\"relative brightness\":0.2628801171},{\"phase\":0.7134199399,\"relative brightness\":0.1949114339},{\"phase\":0.1668957382,\"relative brightness\":-0.0245876671},{\"phase\":0.9986485714,\"relative brightness\":-0.2381762127},{\"phase\":0.3273269049,\"relative brightness\":0.1599448988},{\"phase\":0.8221329688,\"relative brightness\":-0.3219553401},{\"phase\":0.0783851551,\"relative brightness\":-0.1607942419},{\"phase\":0.9552063386,\"relative brightness\":-0.3118875672},{\"phase\":0.4547677792,\"relative brightness\":0.2473631557},{\"phase\":0.0517681992,\"relative brightness\":-0.1788015836},{\"phase\":0.1631234375,\"relative brightness\":-0.0239818739},{\"phase\":0.959594741,\"relative brightness\":-0.3034413691},{\"phase\":0.9587194157,\"relative brightness\":-0.3033111503},{\"phase\":0.1502408465,\"relative brightness\":-0.0521796179},{\"phase\":0.6567250539,\"relative brightness\":0.2972941834},{\"phase\":0.9173579996,\"relative brightness\":-0.3380955527},{\"phase\":0.2786554054,\"relative brightness\":0.0976484759},{\"phase\":0.5082587933,\"relative brightness\":0.2739831014},{\"phase\":0.0008812132,\"relative brightness\":-0.1995032545},{\"phase\":0.0,\"relative brightness\":-0.2066913876},{\"phase\":0.0277709722,\"relative brightness\":-0.1795302514}]'"
      ]
     },
     "execution_count": 38,
     "metadata": {},
     "output_type": "execute_result"
    }
   ],
   "source": [
    "json_data"
   ]
  },
  {
   "cell_type": "markdown",
   "id": "facfd08d-a2ab-4f39-b6e9-ed8e2b30190b",
   "metadata": {},
   "source": [
    "## 3. Preview the json as a plot"
   ]
  },
  {
   "cell_type": "code",
   "execution_count": 41,
   "id": "373b4448-0712-4f38-9dca-7fceee40a663",
   "metadata": {
    "execution": {
     "iopub.execute_input": "2025-04-09T18:09:05.223863Z",
     "iopub.status.busy": "2025-04-09T18:09:05.223376Z",
     "iopub.status.idle": "2025-04-09T18:09:05.380361Z",
     "shell.execute_reply": "2025-04-09T18:09:05.379858Z",
     "shell.execute_reply.started": "2025-04-09T18:09:05.223796Z"
    }
   },
   "outputs": [
    {
     "data": {
      "image/png": "[encoded data removed]",
      "text/plain": [
       "<Figure size 800x400 with 1 Axes>"
      ]
     },
     "metadata": {},
     "output_type": "display_data"
    }
   ],
   "source": [
    "# Parse it into Python objects\n",
    "data = json.loads(json_data)\n",
    "\n",
    "# Extract phase and brightness values\n",
    "phases = [point[\"phase\"] for point in data]\n",
    "brightness = [point[\"relative brightness\"] for point in data]\n",
    "\n",
    "# Plot it\n",
    "plt.figure(figsize=(8, 4))\n",
    "plt.scatter(phases, brightness, s=10, color='royalblue')\n",
    "plt.xlabel(\"Phase\")\n",
    "plt.ylabel(\"Relative Brightness\")\n",
    "plt.title(\"Relative Brightness vs. Phase\")\n",
    "plt.grid(True)\n",
    "plt.show()"
   ]
  },
  {
   "cell_type": "markdown",
   "id": "44ed31f7-6a32-4f32-8b07-509163c33b4a",
   "metadata": {},
   "source": [
    "## 4. Prepare the manifest\n",
    "Now that the dataset is curated, it is time to create the manifest file that will be used to upload the dataset to Zooniverse."
   ]
  },
  {
   "cell_type": "code",
   "execution_count": null,
   "id": "59571fe9-0c22-4743-9aea-da7614b8a949",
   "metadata": {},
   "outputs": [],
   "source": [
    "batch_dir = './json_output/'\n",
    "os.makedirs(batch_dir, exist_ok=True)\n",
    "print(f\"Make the manifest file and save both the manifest \"\n",
    "      f\"and the cutout images in this folder: {batch_dir}\")\n",
    "manifest = utils.make_manifest_with_json(\n",
    "    json_data, batch_dir)"
   ]
  },
  {
   "cell_type": "code",
   "execution_count": null,
   "id": "abe50fcb-4a84-4d93-b535-7380491b1473",
   "metadata": {},
   "outputs": [],
   "source": [
    "manifest_path = cit_sci_pipeline.write_manifest_file(\n",
    "    manifest, batch_dir)\n",
    "print(\"The manifest CSV file can be found \"\n",
    "      f\"at the following relative path: {manifest_path}\")"
   ]
  },
  {
   "cell_type": "markdown",
   "id": "009e0e2a-9933-4f22-9fea-514641f8c690",
   "metadata": {},
   "source": [
    "## 5. Send the data to Zooniverse\n",
    "Zip up the data and send it to the Zooniverse."
   ]
  },
  {
   "cell_type": "markdown",
   "id": "01fdbeeb-8ee9-4881-af2f-c68c04e62269",
   "metadata": {
    "execution": {
     "iopub.execute_input": "2025-04-09T18:02:10.181705Z",
     "iopub.status.busy": "2025-04-09T18:02:10.180846Z",
     "iopub.status.idle": "2025-04-09T18:02:10.187180Z",
     "shell.execute_reply": "2025-04-09T18:02:10.186287Z",
     "shell.execute_reply.started": "2025-04-09T18:02:10.181662Z"
    }
   },
   "source": [
    "### 5.1 Zip up the data\n",
    "Running the below cell will zip up all the cutouts into a single file - this can take 5 to 10 minutes for large data sets (> 5k cutouts)."
   ]
  },
  {
   "cell_type": "code",
   "execution_count": null,
   "id": "8ce022d0-bd50-458c-97d2-9b8e5a391f05",
   "metadata": {},
   "outputs": [],
   "source": [
    "zip_path = cit_sci_pipeline.zip_image_cutouts(batch_dir)\n",
    "print(zip_path)"
   ]
  },
  {
   "cell_type": "code",
   "execution_count": null,
   "id": "b3d2135b-0cfb-4c7b-a9f3-07c17248189a",
   "metadata": {},
   "outputs": [],
   "source": [
    "subject_set_name = \"\"\n",
    "cit_sci_pipeline.send_image_data(subject_set_name, zip_path, flipbook=True)"
   ]
  }
 ],
 "metadata": {
  "kernelspec": {
   "display_name": "LSST",
   "language": "python",
   "name": "lsst"
  },
  "language_info": {
   "codemirror_mode": {
    "name": "ipython",
    "version": 3
   },
   "file_extension": ".py",
   "mimetype": "text/x-python",
   "name": "python",
   "nbconvert_exporter": "python",
   "pygments_lexer": "ipython3",
   "version": "3.12.9"
  }
 },
 "nbformat": 4,
 "nbformat_minor": 5
}
