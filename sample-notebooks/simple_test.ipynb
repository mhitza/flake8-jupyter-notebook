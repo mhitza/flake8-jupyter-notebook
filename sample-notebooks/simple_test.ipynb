{
 "cells": [
  {
   "cell_type": "code",
   "execution_count": null,
   "metadata": {},
   "source": [
    "print(\"Simple test\")",
    "print(\"Backslash: C:\\\\test\")",
    "print(\"Quote: \\\"hello\\\"\")"
   ]
  }
 ],
 "metadata": {
  "kernelspec": {
   "display_name": "Python 3",
   "language": "python",
   "name": "python3"
  }
 },
 "nbformat": 4,
 "nbformat_minor": 4
}