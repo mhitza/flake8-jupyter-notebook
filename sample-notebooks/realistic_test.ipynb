{
 "cells": [
  {
   "cell_type": "code",
   "execution_count": null,
   "metadata": {},
   "source": [
    "# Test basic strings",
    "print(\"Hello world\")",
    "# Test escaped quotes",
    "print(\"He said \\\"Hello\\\"\")",
    "# Test escaped backslashes", 
    "print(\"Path: C:\\\\Users\\\\test\")",
    "# Test combination",
    "print(\"Quote: \\\"test\\\" and path: C:\\\\temp\")"
   ]
  }
 ],
 "metadata": {
  "kernelspec": {
   "display_name": "Python 3",
   "language": "python",
   "name": "python3"
  },
  "language_info": {
   "name": "python",
   "version": "3.8.0"
  }
 },
 "nbformat": 4,
 "nbformat_minor": 4
}